{
 "cells": [
  {
   "cell_type": "markdown",
   "metadata": {},
   "source": [
    "# 1. úloha"
   ]
  },
  {
   "cell_type": "markdown",
   "metadata": {},
   "source": [
    "## 1.1\n",
    "TODO pridat zvolenu parametrizaciu Weibullovho rozdelenia, log-vierohodnostnu funkciu a parcialne derivacie"
   ]
  },
  {
   "cell_type": "code",
   "execution_count": 27,
   "metadata": {},
   "outputs": [],
   "source": [
    "import scipy\n",
    "import openpyxl\n",
    "import pandas as pd\n",
    "import numpy as np"
   ]
  },
  {
   "cell_type": "markdown",
   "metadata": {},
   "source": [
    "## 1.2"
   ]
  },
  {
   "cell_type": "code",
   "execution_count": 28,
   "metadata": {},
   "outputs": [],
   "source": [
    "path = \"Data_2024.xlsx\"\n",
    "wb = openpyxl.load_workbook(path)\n",
    "sheet = wb[\"Data_věrohodnost\"]\n",
    "\n",
    "\n",
    "data = []\n",
    "\n",
    "uncensored_data = []\n",
    "censored_data = []\n",
    "\n",
    "for row in sheet.iter_rows(min_row=2, max_col=2, values_only=True):\n",
    "    data.append(row[1])\n",
    "    \n",
    "    if(row[0] == 0):\n",
    "        uncensored_data.append(row[1])\n",
    "    else:\n",
    "        censored_data.append(row[1])\n",
    "    \n",
    "uncensored_data = np.array(uncensored_data)\n",
    "censored_data = np.array(censored_data)\n",
    "\n"
   ]
  },
  {
   "cell_type": "code",
   "execution_count": 29,
   "metadata": {},
   "outputs": [],
   "source": [
    "def log_likelihood(params, uncensored_data, censored_data):\n",
    "    k, lambd = params\n",
    "    \n",
    "    ll_uncensored = np.sum(np.log(k/lambd) + np.log((uncensored_data/lambd)**(k-1)) - (uncensored_data/lambd)**k)\n",
    "    \n",
    "    \n",
    "    ll_censored = np.sum(-(censored_data / lambd)**k)\n",
    "\n",
    "    return -(ll_uncensored + ll_censored)\n",
    "\n",
    "def log_likelihood_exp(params, uncensored_data, censored_data):\n",
    "    lambd = params\n",
    "\n",
    "    ll_uncensored = np.sum(np.log(1/lambd) + np.log((uncensored_data/lambd)**(1-1)) - (uncensored_data/lambd)**1)\n",
    "    \n",
    "    \n",
    "    ll_censored = np.sum(-(censored_data / lambd)**1)\n",
    "\n",
    "    return -(ll_uncensored + ll_censored)\n",
    "\n"
   ]
  },
  {
   "cell_type": "code",
   "execution_count": null,
   "metadata": {},
   "outputs": [],
   "source": [
    "import scipy.optimize\n",
    "\n",
    "initial_guess = [1.5, np.mean(data)]\n",
    "\n",
    "result = scipy.optimize.minimize(fun=log_likelihood, x0=initial_guess, args=(uncensored_data, censored_data), method='BFGS')\n",
    "\n",
    "k_opt, lambd_opt = result.x\n",
    "print(f\"est. params: k = {k_opt:.4f}, lambda = {lambd_opt:.4f}\")"
   ]
  },
  {
   "cell_type": "markdown",
   "metadata": {},
   "source": [
    "## 1.3"
   ]
  },
  {
   "cell_type": "code",
   "execution_count": null,
   "metadata": {},
   "outputs": [],
   "source": [
    "initial_guess_exp = [np.mean(data)]\n",
    "\n",
    "result_exp = scipy.optimize.minimize(fun=log_likelihood_exp, x0=initial_guess_exp, args=(uncensored_data, censored_data), method='BFGS')\n",
    "\n",
    "L1 = result.fun\n",
    "\n",
    "L2 = result_exp.fun\n",
    "\n",
    "Stat = 2 * (L2 - L1)\n",
    "\n",
    "print(Stat)\n",
    "\n"
   ]
  },
  {
   "cell_type": "markdown",
   "metadata": {},
   "source": [
    "Doplnok kritického oboru: <0; 5.024>\n",
    "592.39 nepatrí do doplnku kritického oboru, teda zamietame H0: Exponenciálne rozdelenie je postačujúce\n",
    "Prijímame H1: Exponenciálne rozdelenie nie je postačujúce"
   ]
  },
  {
   "cell_type": "markdown",
   "metadata": {},
   "source": [
    "## 1.4"
   ]
  },
  {
   "cell_type": "code",
   "execution_count": null,
   "metadata": {},
   "outputs": [],
   "source": [
    "median = lambd_opt*(np.log(2))**(1/k_opt) # TODO check, guy on discord has 6.9, I have 7.0\n",
    "tencentil = lambd_opt*(-np.log(1-0.1))**(1/k_opt)\n",
    "\n",
    "print(\"median:\", median)\n",
    "print(\"tencentil:\", tencentil)\n"
   ]
  }
 ],
 "metadata": {
  "kernelspec": {
   "display_name": "Python 3 (ipykernel)",
   "language": "python",
   "name": "python3"
  },
  "language_info": {
   "codemirror_mode": {
    "name": "ipython",
    "version": 3
   },
   "file_extension": ".py",
   "mimetype": "text/x-python",
   "name": "python",
   "nbconvert_exporter": "python",
   "pygments_lexer": "ipython3",
   "version": "3.11.8"
  }
 },
 "nbformat": 4,
 "nbformat_minor": 4
}
