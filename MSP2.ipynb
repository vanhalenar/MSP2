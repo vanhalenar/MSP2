{
 "cells": [
  {
   "cell_type": "code",
   "execution_count": 55,
   "metadata": {},
   "outputs": [],
   "source": [
    "import scipy\n",
    "import openpyxl\n",
    "import pandas as pd\n",
    "import numpy as np"
   ]
  },
  {
   "cell_type": "code",
   "execution_count": null,
   "metadata": {},
   "outputs": [],
   "source": [
    "path = \"Data_2024.xlsx\"\n",
    "wb = openpyxl.load_workbook(path)\n",
    "sheet = wb[\"Data_věrohodnost\"]\n",
    "\n",
    "\n",
    "data = []\n",
    "\n",
    "uncensored_data = []\n",
    "censored_data = []\n",
    "\n",
    "for row in sheet.iter_rows(min_row=2, max_col=2, values_only=True):\n",
    "    data.append(row[1])\n",
    "    \n",
    "    if(row[0] == 0):\n",
    "        uncensored_data.append(row[1])\n",
    "    else:\n",
    "        censored_data.append(row[1])\n",
    "    \n",
    "uncensored_data = np.array(uncensored_data)\n",
    "censored_data = np.array(censored_data)\n",
    "print(uncensored_data)\n",
    "\n"
   ]
  },
  {
   "cell_type": "code",
   "execution_count": 57,
   "metadata": {},
   "outputs": [],
   "source": [
    "def log_likelihood(params, uncensored_data, censored_data):\n",
    "    k, lambd = params\n",
    "    \n",
    "    ll_uncensored = np.sum(np.log(k/lambd) + np.log((uncensored_data/lambd)**(k-1)) - (uncensored_data/lambd)**k)\n",
    "    \n",
    "    \n",
    "    ll_censored = np.sum(-(censored_data / lambd)**k)\n",
    "\n",
    "    return -(ll_uncensored + ll_censored)\n"
   ]
  },
  {
   "cell_type": "code",
   "execution_count": null,
   "metadata": {},
   "outputs": [],
   "source": [
    "import scipy.optimize\n",
    "\n",
    "\n",
    "initial_guess = [1.5, np.mean(data)]\n",
    "\n",
    "#result = scipy.optimize.minimize(log_likelihood, initial_guess, args=(uncensored_data, censored_data), method='L-BFGS-B', bounds=[(0.01, None), (0.01, None)])\n",
    "\n",
    "result = scipy.optimize.minimize(fun=log_likelihood, x0=initial_guess, args=(uncensored_data, censored_data), method='BFGS')\n",
    "\n",
    "# Výsledky\n",
    "k_opt, lambd_opt = result.x\n",
    "print(f\"est. params: k = {k_opt:.4f}, lambda = {lambd_opt:.4f}\")"
   ]
  }
 ],
 "metadata": {
  "kernelspec": {
   "display_name": "Python 3",
   "language": "python",
   "name": "python3"
  },
  "language_info": {
   "codemirror_mode": {
    "name": "ipython",
    "version": 3
   },
   "file_extension": ".py",
   "mimetype": "text/x-python",
   "name": "python",
   "nbconvert_exporter": "python",
   "pygments_lexer": "ipython3",
   "version": "3.12.3"
  }
 },
 "nbformat": 4,
 "nbformat_minor": 2
}
